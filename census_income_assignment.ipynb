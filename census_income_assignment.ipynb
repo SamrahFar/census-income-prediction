{
 "cells": [
  {
   "cell_type": "markdown",
   "id": "a711a190",
   "metadata": {
    "jp-MarkdownHeadingCollapsed": true
   },
   "source": [
    "\n",
    "\n",
    "\n",
    "### Table of Contents \n",
    "1. [Standard Imports](#import)\n",
    "2. [Get the Data](#data)\n",
    "3. [Explore the Data](#explore)\n",
    "4. [Prepare the Data](#prepare)\n",
    "5. [Model Selection & Evaluation](#model_selection)\n",
    "6. [Classification Metrics](#metrics)\n",
    "7. [Final Model Evaluation](#final_model)\n",
    " "
   ]
  },
  {
   "cell_type": "markdown",
   "id": "953f1bb9",
   "metadata": {},
   "source": [
    "## Standard Imports<a name=\"import\"></a>\n"
   ]
  },
  {
   "cell_type": "code",
   "execution_count": null,
   "id": "e0a81e16",
   "metadata": {
    "code_folding": []
   },
   "outputs": [],
   "source": [
    "# standard imports\n",
    "import pandas as pd\n",
    "import numpy as np\n",
    "\n"
   ]
  },
  {
   "cell_type": "markdown",
   "id": "bab5c5dd",
   "metadata": {},
   "source": [
    "## Get the Data<a name=\"data\"></a>\n"
   ]
  },
  {
   "cell_type": "code",
   "execution_count": null,
   "id": "0ee0ed9c",
   "metadata": {},
   "outputs": [],
   "source": [
    "#encoding all \"?\" values as NA/NaN.\n",
    "census_income=pd.read_csv('census_income.csv', na_values=['?'])\n",
    "census_income.head()"
   ]
  },
  {
   "cell_type": "code",
   "execution_count": null,
   "id": "55a48f3b",
   "metadata": {},
   "outputs": [],
   "source": [
    "# check basic info about dataset and notice missing values\n",
    "census_income.info()"
   ]
  },
  {
   "cell_type": "code",
   "execution_count": null,
   "id": "4e1c1785",
   "metadata": {},
   "outputs": [],
   "source": [
    "\n",
    "income_label= census_income['income']\n",
    "\n"
   ]
  },
  {
   "cell_type": "code",
   "execution_count": null,
   "id": "6dd3778c",
   "metadata": {},
   "outputs": [],
   "source": [
    "\n",
    "income_features=census_income.drop('income',axis=1)\n",
    "income_features.head(5)"
   ]
  },
  {
   "cell_type": "code",
   "execution_count": null,
   "id": "559ae4ff",
   "metadata": {},
   "outputs": [],
   "source": [
    "\n",
    "from sklearn.model_selection import train_test_split\n",
    "\n",
    "X_train, X_test, y_train, y_test=train_test_split(income_features,income_label, test_size=0.2, random_state=42)\n"
   ]
  },
  {
   "cell_type": "markdown",
   "id": "8359e61f",
   "metadata": {},
   "source": [
    "## Explore the Data<a name=\"explore\"></a>\n"
   ]
  },
  {
   "cell_type": "markdown",
   "id": "3dbfdffb",
   "metadata": {},
   "source": [
    "### Prepare the Data<a name=\"prepare\"></a>\n",
    ".  \n",
    "\n",
    "### Custom Transformer\n",
    "  \n",
    "\n",
    " a custom transformer that takes the numerical columns and performs the following transformations:\n",
    " \n",
    " an input parameter called `create_new_column` with a default value of `True` that performs the following two data preparation steps when its value is `True`, but skips these steps and just returns the DataFrame as is when being passed a value of `False`.\n",
    "   - Adds an attribute to the end of the numerical data (i.e. new last column) that is the result of the `days_per_week` column multiplied by the `hours_per_day` column.  We are creating this column to better compare the amount of hours worked between the individuals.\n",
    "   - Since they are not needed with the new column, delete the `days_per_week` and `hours_per_day` columns.\n"
   ]
  },
  {
   "cell_type": "code",
   "execution_count": null,
   "id": "92855946",
   "metadata": {},
   "outputs": [],
   "source": [
    "\n",
    "num_features=X_train[['age','fnlwgt','education_num','capital_gain','capital_loss','days_per_week','hours_per_day']]\n",
    "\n",
    "from sklearn.base import BaseEstimator, TransformerMixin\n",
    "\n",
    "age_1,fnlwgt_1,education_num_1,capital_gain_1,capital_loss_1=0,1,2,3,4\n",
    "days_per_week_1=5\n",
    "hours_per_day_1=6\n",
    "\n",
    "class CensusIncomeTransformer(BaseEstimator, TransformerMixin):\n",
    "    def __init__(self, create_new_column=True):\n",
    "       self.create_new_column=create_new_column\n",
    "        \n",
    "    def fit(self,X,y=None):\n",
    "        return self\n",
    "\n",
    "    def transform(self, X):\n",
    "       num_features_1=  X[:,[age_1,fnlwgt_1,education_num_1,capital_gain_1,capital_loss_1]]\n",
    "       if self.create_new_column:\n",
    "         new_last_column=   X[:,days_per_week_1] * X[:,hours_per_day_1] \n",
    "         return  np.c_[num_features_1, new_last_column]\n",
    "          \n",
    "       else: \n",
    "         return np.c_[num_features_1,X[:,[days_per_week_1,hours_per_day_1]]]\n",
    "\n",
    "\n"
   ]
  },
  {
   "cell_type": "markdown",
   "id": "2722efa1",
   "metadata": {},
   "source": [
    "### Pipelines\n",
    "\n"
   ]
  },
  {
   "cell_type": "code",
   "execution_count": null,
   "id": "7941ca8c",
   "metadata": {},
   "outputs": [],
   "source": [
    "\n",
    "from sklearn.pipeline import make_pipeline\n",
    "from sklearn.impute import SimpleImputer\n",
    "from sklearn.preprocessing import OneHotEncoder, StandardScaler\n",
    "\n",
    "num_pipeline= make_pipeline(SimpleImputer(strategy='mean'),CensusIncomeTransformer(),StandardScaler())"
   ]
  },
  {
   "cell_type": "code",
   "execution_count": null,
   "id": "e33133cd",
   "metadata": {},
   "outputs": [],
   "source": [
    "\n",
    "cat_pipeline=make_pipeline((SimpleImputer(strategy='most_frequent')), (OneHotEncoder(drop='first', sparse_output=False)))"
   ]
  },
  {
   "cell_type": "markdown",
   "id": "7cfc681c",
   "metadata": {},
   "source": [
    "### Column Transformer\n",
    "\n"
   ]
  },
  {
   "cell_type": "code",
   "execution_count": null,
   "id": "f09629c5",
   "metadata": {},
   "outputs": [],
   "source": [
    "\n",
    "from sklearn.compose import ColumnTransformer\n",
    "\n",
    "num_attributes=['age','fnlwgt','education_num', 'capital_gain', 'capital_loss','days_per_week','hours_per_day']\n",
    "cat_attributes=['workclass','education','marital_status','occupation','relationship','race','sex','native_country']\n",
    "\n",
    "preprocessing= ColumnTransformer(transformers=[\n",
    "    ('num_pipeline', num_pipeline, num_attributes),\n",
    "    ('cat_pipeline',cat_pipeline, cat_attributes)\n",
    "], remainder='passthrough')\n",
    "\n",
    "X_train_prepared= preprocessing.fit_transform(X_train)\n",
    "X_train_prepared"
   ]
  },
  {
   "cell_type": "markdown",
   "id": "163df77d",
   "metadata": {},
   "source": [
    "## Model Selection<a name=\"model_selection\"></a>\n",
    "  Logistic Regression model, a Stochastic Gradient Descent classifier and a Random Forest classifier."
   ]
  },
  {
   "cell_type": "code",
   "execution_count": null,
   "id": "3125454b",
   "metadata": {},
   "outputs": [],
   "source": [
    "### Logistic Regression Classifier ###\n",
    "\n",
    "from sklearn.linear_model import LogisticRegression\n",
    "\n",
    "# instantiate a Logistic Regression Class \n",
    "# increasing the maximum number of iterations taken for the solvers to converge\n",
    "log_clf = LogisticRegression(random_state=42, max_iter=1000)\n",
    "\n",
    "# fit the model\n",
    "log_clf.fit(X_train_prepared, y_train)"
   ]
  },
  {
   "cell_type": "code",
   "execution_count": null,
   "id": "0076bf84",
   "metadata": {},
   "outputs": [],
   "source": [
    "from sklearn.model_selection import cross_val_score\n",
    "\n",
    "# check the accuracy scores\n",
    "cross_val_score(log_clf, X_train_prepared, y_train, cv=3, scoring=\"accuracy\")"
   ]
  },
  {
   "cell_type": "code",
   "execution_count": null,
   "id": "5b1170c8",
   "metadata": {},
   "outputs": [],
   "source": [
    "### Stochastic Gradient Descent Classifier ###\n",
    "\n",
    "from sklearn.linear_model import SGDClassifier\n",
    "\n",
    "# instantiate SGD CLassifier Class\n",
    "sgd_clf = SGDClassifier(random_state=42)\n",
    "\n",
    "# fit the model \n",
    "sgd_clf.fit(X_train_prepared, y_train)"
   ]
  },
  {
   "cell_type": "code",
   "execution_count": null,
   "id": "4ab7cb71",
   "metadata": {},
   "outputs": [],
   "source": [
    "# check the accuracy scores\n",
    "cross_val_score(sgd_clf, X_train_prepared, y_train, cv=3, scoring=\"accuracy\")"
   ]
  },
  {
   "cell_type": "code",
   "execution_count": null,
   "id": "82686fb3",
   "metadata": {},
   "outputs": [],
   "source": [
    "### Random Forest Classifier ###\n",
    "\n",
    "from sklearn.ensemble import RandomForestClassifier\n",
    "\n",
    "# instantiate a Random Forest Classifier Class using default parameters\n",
    "# we won't do it in this assignment, but normally we would want to perform a grid search to \n",
    "# find the best parameters to use\n",
    "rnd_for_clf = RandomForestClassifier(random_state=0)\n",
    "\n",
    "# fit the model\n",
    "rnd_for_clf.fit(X_train_prepared, y_train)"
   ]
  },
  {
   "cell_type": "code",
   "execution_count": null,
   "id": "947f1f0a",
   "metadata": {},
   "outputs": [],
   "source": [
    "# check the accuracy scores\n",
    "cross_val_score(rnd_for_clf, X_train_prepared, y_train, cv=3, scoring=\"accuracy\")"
   ]
  },
  {
   "cell_type": "markdown",
   "id": "c0975f85",
   "metadata": {},
   "source": [
    "## Classification Metrics<a name=\"metrics\"></a>\n",
    "\n"
   ]
  },
  {
   "cell_type": "code",
   "execution_count": null,
   "id": "b2212d0c",
   "metadata": {},
   "outputs": [],
   "source": [
    "\n",
    "from sklearn.model_selection import cross_val_predict\n",
    "\n",
    "y_train_pred=cross_val_predict(log_clf,X_train_prepared,y_train,cv=3)\n",
    "y_train_pred"
   ]
  },
  {
   "cell_type": "code",
   "execution_count": null,
   "id": "ae04e5ba",
   "metadata": {},
   "outputs": [],
   "source": [
    "\n",
    "from sklearn.metrics import precision_score,recall_score,f1_score\n",
    "\n",
    "precision=precision_score(y_train,y_train_pred,pos_label=\">50K\")\n",
    "precision= round(precision,2)\n",
    "precision"
   ]
  },
  {
   "cell_type": "code",
   "execution_count": null,
   "id": "12aab595",
   "metadata": {},
   "outputs": [],
   "source": [
    "\n",
    "\n",
    "recall=round(recall_score(y_train,y_train_pred,pos_label=\">50K\"),2)\n",
    "recall"
   ]
  },
  {
   "cell_type": "code",
   "execution_count": null,
   "id": "26b95eb3",
   "metadata": {},
   "outputs": [],
   "source": [
    "\n",
    "f1=round(f1_score(y_train,y_train_pred,pos_label=\">50K\"),2)\n",
    "f1"
   ]
  },
  {
   "cell_type": "markdown",
   "id": "f3da30c4",
   "metadata": {},
   "source": [
    "## Final Model Evaluation<a name=\"final_model\"></a>\n",
    "\n"
   ]
  },
  {
   "cell_type": "code",
   "execution_count": null,
   "id": "96e61edd",
   "metadata": {},
   "outputs": [],
   "source": [
    "### ENTER CODE HERE ###\n",
    "from sklearn.metrics import accuracy_score\n",
    "\n",
    "X_test_prepared=preprocessing.transform(X_test)\n",
    "final_predictions=log_clf.predict(X_test_prepared)\n",
    "final_accuracy=accuracy_score(y_test,final_predictions)\n",
    "final_accuracy=round(final_accuracy,2)\n",
    "\n",
    "final_accuracy\n",
    "\n"
   ]
  },
  {
   "cell_type": "code",
   "execution_count": null,
   "id": "3a56444a-ccb0-444c-83f4-7ae8cfc4a046",
   "metadata": {},
   "outputs": [],
   "source": []
  },
  {
   "cell_type": "code",
   "execution_count": null,
   "id": "388adf0d-9270-4f3a-82ee-9b23dcae5ad1",
   "metadata": {},
   "outputs": [],
   "source": []
  },
  {
   "cell_type": "code",
   "execution_count": null,
   "id": "c11fea7f-e5c0-406b-a50d-149c97adf438",
   "metadata": {},
   "outputs": [],
   "source": []
  },
  {
   "cell_type": "code",
   "execution_count": null,
   "id": "aaa46c7f-db08-46b9-a5b1-0add4f335205",
   "metadata": {},
   "outputs": [],
   "source": []
  },
  {
   "cell_type": "code",
   "execution_count": null,
   "id": "42839a9f-58a8-4208-9d25-765d2dea80d8",
   "metadata": {},
   "outputs": [],
   "source": []
  },
  {
   "cell_type": "code",
   "execution_count": null,
   "id": "10f407e7-5719-49a8-99f3-c41bf39f10bf",
   "metadata": {},
   "outputs": [],
   "source": []
  },
  {
   "cell_type": "code",
   "execution_count": null,
   "id": "495f719f-2b93-446b-a13a-a4e7b6583711",
   "metadata": {},
   "outputs": [],
   "source": []
  },
  {
   "cell_type": "code",
   "execution_count": null,
   "id": "9a1ea913-ee18-4329-acc5-c28ef19f5a49",
   "metadata": {},
   "outputs": [],
   "source": []
  },
  {
   "cell_type": "code",
   "execution_count": null,
   "id": "cfd57a4d-193d-4484-99a7-ba7a1d0e3223",
   "metadata": {},
   "outputs": [],
   "source": []
  },
  {
   "cell_type": "code",
   "execution_count": null,
   "id": "bbfc1324-e9f1-4e9b-aca2-d4d102adddf6",
   "metadata": {},
   "outputs": [],
   "source": []
  }
 ],
 "metadata": {
  "kernelspec": {
   "display_name": "Python 3 (ipykernel)",
   "language": "python",
   "name": "python3"
  },
  "language_info": {
   "codemirror_mode": {
    "name": "ipython",
    "version": 3
   },
   "file_extension": ".py",
   "mimetype": "text/x-python",
   "name": "python",
   "nbconvert_exporter": "python",
   "pygments_lexer": "ipython3",
   "version": "3.13.0"
  }
 },
 "nbformat": 4,
 "nbformat_minor": 5
}
